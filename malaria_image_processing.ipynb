{
 "cells": [
  {
   "cell_type": "code",
   "execution_count": 19,
   "metadata": {},
   "outputs": [],
   "source": [
    "import pandas as pd #data manipulation\n",
    "import numpy as np #numerical processing\n",
    "import matplotlib.pyplot as plt #Plotting\n",
    "import os #access directory structure\n",
    "import tensorflow as tf\n",
    "import seaborn as sns #statistical analysis"
   ]
  },
  {
   "cell_type": "code",
   "execution_count": 20,
   "metadata": {},
   "outputs": [
    {
     "name": "stdout",
     "output_type": "stream",
     "text": [
      "['cell_images', 'Parasitized', 'Uninfected']\n"
     ]
    }
   ],
   "source": [
    "print(os.listdir(r'C:\\Users\\PC\\Documents\\Data-Science-Tasks\\archive (13)\\cell_images'))"
   ]
  },
  {
   "cell_type": "code",
   "execution_count": 21,
   "metadata": {},
   "outputs": [],
   "source": [
    "base_path = r'C:\\Users\\PC\\Documents\\Data-Science-Tasks\\archive (13)\\cell_images'\n"
   ]
  },
  {
   "cell_type": "code",
   "execution_count": 22,
   "metadata": {},
   "outputs": [],
   "source": [
    "parasitized_path = os.path.join(base_path, \"Parasitized\")\n",
    "uninfected_path = os.path.join(base_path, \"Uninfected\")"
   ]
  },
  {
   "cell_type": "code",
   "execution_count": 27,
   "metadata": {},
   "outputs": [],
   "source": [
    "def determine_image(paths, label):\n",
    "    images = []\n",
    "    labels = []\n",
    "    for filename in os.listdir(paths):\n",
    "        if filename.endswith('.jpg') or filename.endswith('.png'):\n",
    "            try:\n",
    "                image = Image.open(os.path.join(paths, filename))\n",
    "                \n",
    "                #convert image to a numpy array\n",
    "                image_array = np.array(image)\n",
    "                images.append(image_array)\n",
    "                labels.append(label)\n",
    "            except Exception as e:\n",
    "                print(f'Error processing {filename}: {str(e)}')\n",
    "                return images, labels"
   ]
  },
  {
   "cell_type": "code",
   "execution_count": 28,
   "metadata": {},
   "outputs": [
    {
     "name": "stdout",
     "output_type": "stream",
     "text": [
      "Error processing C100P61ThinF_IMG_20150918_144104_cell_162.png: name 'Image' is not defined\n",
      "Error processing C100P61ThinF_IMG_20150918_144104_cell_128.png: name 'Image' is not defined\n"
     ]
    }
   ],
   "source": [
    "# Load and resize images from Parasitized folder\n",
    "parasitized_images, parasitized_labels = determine_image(parasitized_path, label=0, )\n",
    "\n",
    "# Load and resize images from Uninfected folder\n",
    "uninfected_images, uninfected_labels = determine_image(uninfected_path, label=1)"
   ]
  },
  {
   "cell_type": "code",
   "execution_count": 29,
   "metadata": {},
   "outputs": [],
   "source": [
    "# Concatenate the lists of images and labels\n",
    "images = parasitized_images + uninfected_images\n",
    "labels = parasitized_labels + uninfected_labels"
   ]
  },
  {
   "cell_type": "markdown",
   "metadata": {},
   "source": [
    "List to array conversion\n"
   ]
  },
  {
   "cell_type": "code",
   "execution_count": null,
   "metadata": {},
   "outputs": [],
   "source": [
    "image"
   ]
  }
 ],
 "metadata": {
  "kernelspec": {
   "display_name": "Python 3",
   "language": "python",
   "name": "python3"
  },
  "language_info": {
   "codemirror_mode": {
    "name": "ipython",
    "version": 3
   },
   "file_extension": ".py",
   "mimetype": "text/x-python",
   "name": "python",
   "nbconvert_exporter": "python",
   "pygments_lexer": "ipython3",
   "version": "3.12.0"
  }
 },
 "nbformat": 4,
 "nbformat_minor": 2
}
